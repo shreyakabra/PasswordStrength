{
 "cells": [
  {
   "cell_type": "markdown",
   "metadata": {},
   "source": [
    "# **Password Strength Checker**"
   ]
  },
  {
   "cell_type": "code",
   "execution_count": 6,
   "metadata": {},
   "outputs": [],
   "source": [
    "#Importing necessary libraries\n",
    "import pandas as pd\n",
    "import numpy as np\n",
    "import random\n",
    "import seaborn as sns\n",
    "import matplotlib.pyplot as plt\n",
    "\n",
    "from sklearn.feature_extraction.text import CountVectorizer\n",
    "from sklearn.feature_extraction.text import TfidfVectorizer\n",
    "from sklearn.linear_model import LogisticRegression\n",
    "from sklearn.model_selection import train_test_split\n",
    "from sklearn.metrics import confusion_matrix"
   ]
  },
  {
   "cell_type": "code",
   "execution_count": 7,
   "metadata": {},
   "outputs": [],
   "source": [
    "def getToken(input_string):\n",
    "    tokens=[]\n",
    "    for i in input_string:\n",
    "        tokens.append(i)\n",
    "    return tokens"
   ]
  },
  {
   "cell_type": "code",
   "execution_count": 8,
   "metadata": {},
   "outputs": [
    {
     "name": "stderr",
     "output_type": "stream",
     "text": [
      "C:\\Users\\DELL\\AppData\\Local\\Temp\\ipykernel_8236\\3096557782.py:1: FutureWarning: The error_bad_lines argument has been deprecated and will be removed in a future version. Use on_bad_lines in the future.\n",
      "\n",
      "\n",
      "  data=pd.read_csv(\"data.csv\", error_bad_lines=False)\n"
     ]
    },
    {
     "name": "stderr",
     "output_type": "stream",
     "text": [
      "Skipping line 2810: expected 2 fields, saw 5\n",
      "Skipping line 4641: expected 2 fields, saw 5\n",
      "Skipping line 7171: expected 2 fields, saw 5\n",
      "Skipping line 11220: expected 2 fields, saw 5\n",
      "Skipping line 13809: expected 2 fields, saw 5\n",
      "Skipping line 14132: expected 2 fields, saw 5\n",
      "Skipping line 14293: expected 2 fields, saw 5\n",
      "Skipping line 14865: expected 2 fields, saw 5\n",
      "Skipping line 17419: expected 2 fields, saw 5\n",
      "Skipping line 22801: expected 2 fields, saw 5\n",
      "Skipping line 25001: expected 2 fields, saw 5\n",
      "Skipping line 26603: expected 2 fields, saw 5\n",
      "Skipping line 26742: expected 2 fields, saw 5\n",
      "Skipping line 29702: expected 2 fields, saw 5\n",
      "Skipping line 32767: expected 2 fields, saw 5\n",
      "Skipping line 32878: expected 2 fields, saw 5\n",
      "Skipping line 35643: expected 2 fields, saw 5\n",
      "Skipping line 36550: expected 2 fields, saw 5\n",
      "Skipping line 38732: expected 2 fields, saw 5\n",
      "Skipping line 40567: expected 2 fields, saw 5\n",
      "Skipping line 40576: expected 2 fields, saw 5\n",
      "Skipping line 41864: expected 2 fields, saw 5\n",
      "Skipping line 46861: expected 2 fields, saw 5\n",
      "Skipping line 47939: expected 2 fields, saw 5\n",
      "Skipping line 48628: expected 2 fields, saw 5\n",
      "Skipping line 48908: expected 2 fields, saw 5\n",
      "Skipping line 57582: expected 2 fields, saw 5\n",
      "Skipping line 58782: expected 2 fields, saw 5\n",
      "Skipping line 58984: expected 2 fields, saw 5\n",
      "Skipping line 61518: expected 2 fields, saw 5\n",
      "Skipping line 63451: expected 2 fields, saw 5\n",
      "Skipping line 68141: expected 2 fields, saw 5\n",
      "Skipping line 72083: expected 2 fields, saw 5\n",
      "Skipping line 74027: expected 2 fields, saw 5\n",
      "Skipping line 77811: expected 2 fields, saw 5\n",
      "Skipping line 83958: expected 2 fields, saw 5\n",
      "Skipping line 85295: expected 2 fields, saw 5\n",
      "Skipping line 88665: expected 2 fields, saw 5\n",
      "Skipping line 89198: expected 2 fields, saw 5\n",
      "Skipping line 92499: expected 2 fields, saw 5\n",
      "Skipping line 92751: expected 2 fields, saw 5\n",
      "Skipping line 93689: expected 2 fields, saw 5\n",
      "Skipping line 94776: expected 2 fields, saw 5\n",
      "Skipping line 97334: expected 2 fields, saw 5\n",
      "Skipping line 102316: expected 2 fields, saw 5\n",
      "Skipping line 103421: expected 2 fields, saw 5\n",
      "Skipping line 106872: expected 2 fields, saw 5\n",
      "Skipping line 109363: expected 2 fields, saw 5\n",
      "Skipping line 110117: expected 2 fields, saw 5\n",
      "Skipping line 110465: expected 2 fields, saw 5\n",
      "Skipping line 113843: expected 2 fields, saw 5\n",
      "Skipping line 115634: expected 2 fields, saw 5\n",
      "Skipping line 121518: expected 2 fields, saw 5\n",
      "Skipping line 123692: expected 2 fields, saw 5\n",
      "Skipping line 124708: expected 2 fields, saw 5\n",
      "Skipping line 129608: expected 2 fields, saw 5\n",
      "Skipping line 133176: expected 2 fields, saw 5\n",
      "Skipping line 135532: expected 2 fields, saw 5\n",
      "Skipping line 138042: expected 2 fields, saw 5\n",
      "Skipping line 139485: expected 2 fields, saw 5\n",
      "Skipping line 140401: expected 2 fields, saw 5\n",
      "Skipping line 144093: expected 2 fields, saw 5\n",
      "Skipping line 149850: expected 2 fields, saw 5\n",
      "Skipping line 151831: expected 2 fields, saw 5\n",
      "Skipping line 158014: expected 2 fields, saw 5\n",
      "Skipping line 162047: expected 2 fields, saw 5\n",
      "Skipping line 164515: expected 2 fields, saw 5\n",
      "Skipping line 170313: expected 2 fields, saw 5\n",
      "Skipping line 171325: expected 2 fields, saw 5\n",
      "Skipping line 171424: expected 2 fields, saw 5\n",
      "Skipping line 175920: expected 2 fields, saw 5\n",
      "Skipping line 176210: expected 2 fields, saw 5\n",
      "Skipping line 183603: expected 2 fields, saw 5\n",
      "Skipping line 190264: expected 2 fields, saw 5\n",
      "Skipping line 191683: expected 2 fields, saw 5\n",
      "Skipping line 191988: expected 2 fields, saw 5\n",
      "Skipping line 195450: expected 2 fields, saw 5\n",
      "Skipping line 195754: expected 2 fields, saw 5\n",
      "Skipping line 197124: expected 2 fields, saw 5\n",
      "Skipping line 199263: expected 2 fields, saw 5\n",
      "Skipping line 202603: expected 2 fields, saw 5\n",
      "Skipping line 209960: expected 2 fields, saw 5\n",
      "Skipping line 213218: expected 2 fields, saw 5\n",
      "Skipping line 217060: expected 2 fields, saw 5\n",
      "Skipping line 220121: expected 2 fields, saw 5\n",
      "Skipping line 223518: expected 2 fields, saw 5\n",
      "Skipping line 226293: expected 2 fields, saw 5\n",
      "Skipping line 227035: expected 2 fields, saw 7\n",
      "Skipping line 227341: expected 2 fields, saw 5\n",
      "Skipping line 227808: expected 2 fields, saw 5\n",
      "Skipping line 228516: expected 2 fields, saw 5\n",
      "Skipping line 228733: expected 2 fields, saw 5\n",
      "Skipping line 232043: expected 2 fields, saw 5\n",
      "Skipping line 232426: expected 2 fields, saw 5\n",
      "Skipping line 234490: expected 2 fields, saw 5\n",
      "Skipping line 239626: expected 2 fields, saw 5\n",
      "Skipping line 240461: expected 2 fields, saw 5\n",
      "Skipping line 244518: expected 2 fields, saw 5\n",
      "Skipping line 245395: expected 2 fields, saw 5\n",
      "Skipping line 246168: expected 2 fields, saw 5\n",
      "Skipping line 246655: expected 2 fields, saw 5\n",
      "Skipping line 246752: expected 2 fields, saw 5\n",
      "Skipping line 247189: expected 2 fields, saw 5\n",
      "Skipping line 250276: expected 2 fields, saw 5\n",
      "Skipping line 255327: expected 2 fields, saw 5\n",
      "Skipping line 257094: expected 2 fields, saw 5\n",
      "\n",
      "Skipping line 264626: expected 2 fields, saw 5\n",
      "Skipping line 265028: expected 2 fields, saw 5\n",
      "Skipping line 269150: expected 2 fields, saw 5\n",
      "Skipping line 271360: expected 2 fields, saw 5\n",
      "Skipping line 273975: expected 2 fields, saw 5\n",
      "Skipping line 274742: expected 2 fields, saw 5\n",
      "Skipping line 276227: expected 2 fields, saw 5\n",
      "Skipping line 279807: expected 2 fields, saw 5\n",
      "Skipping line 283425: expected 2 fields, saw 5\n",
      "Skipping line 287468: expected 2 fields, saw 5\n",
      "Skipping line 292995: expected 2 fields, saw 5\n",
      "Skipping line 293496: expected 2 fields, saw 5\n",
      "Skipping line 293735: expected 2 fields, saw 5\n",
      "Skipping line 295060: expected 2 fields, saw 5\n",
      "Skipping line 296643: expected 2 fields, saw 5\n",
      "Skipping line 296848: expected 2 fields, saw 5\n",
      "Skipping line 308926: expected 2 fields, saw 5\n",
      "Skipping line 310360: expected 2 fields, saw 5\n",
      "Skipping line 317004: expected 2 fields, saw 5\n",
      "Skipping line 318207: expected 2 fields, saw 5\n",
      "Skipping line 331783: expected 2 fields, saw 5\n",
      "Skipping line 333864: expected 2 fields, saw 5\n",
      "Skipping line 335958: expected 2 fields, saw 5\n",
      "Skipping line 336290: expected 2 fields, saw 5\n",
      "Skipping line 343526: expected 2 fields, saw 5\n",
      "Skipping line 343857: expected 2 fields, saw 5\n",
      "Skipping line 344059: expected 2 fields, saw 5\n",
      "Skipping line 348691: expected 2 fields, saw 5\n",
      "Skipping line 353446: expected 2 fields, saw 5\n",
      "Skipping line 357073: expected 2 fields, saw 5\n",
      "Skipping line 359753: expected 2 fields, saw 5\n",
      "Skipping line 359974: expected 2 fields, saw 5\n",
      "Skipping line 366534: expected 2 fields, saw 5\n",
      "Skipping line 369514: expected 2 fields, saw 5\n",
      "Skipping line 377759: expected 2 fields, saw 5\n",
      "Skipping line 379327: expected 2 fields, saw 5\n",
      "Skipping line 380769: expected 2 fields, saw 5\n",
      "Skipping line 381073: expected 2 fields, saw 5\n",
      "Skipping line 381489: expected 2 fields, saw 5\n",
      "Skipping line 386304: expected 2 fields, saw 5\n",
      "Skipping line 387635: expected 2 fields, saw 5\n",
      "Skipping line 389613: expected 2 fields, saw 5\n",
      "Skipping line 392604: expected 2 fields, saw 5\n",
      "Skipping line 393184: expected 2 fields, saw 5\n",
      "Skipping line 395530: expected 2 fields, saw 5\n",
      "Skipping line 396939: expected 2 fields, saw 5\n",
      "Skipping line 397385: expected 2 fields, saw 5\n",
      "Skipping line 397509: expected 2 fields, saw 5\n",
      "Skipping line 402902: expected 2 fields, saw 5\n",
      "Skipping line 405187: expected 2 fields, saw 5\n",
      "Skipping line 408412: expected 2 fields, saw 5\n",
      "Skipping line 419423: expected 2 fields, saw 5\n",
      "Skipping line 420962: expected 2 fields, saw 5\n",
      "Skipping line 425965: expected 2 fields, saw 5\n",
      "Skipping line 427496: expected 2 fields, saw 5\n",
      "Skipping line 438881: expected 2 fields, saw 5\n",
      "Skipping line 439776: expected 2 fields, saw 5\n",
      "Skipping line 440345: expected 2 fields, saw 5\n",
      "Skipping line 445507: expected 2 fields, saw 5\n",
      "Skipping line 445548: expected 2 fields, saw 5\n",
      "Skipping line 447184: expected 2 fields, saw 5\n",
      "Skipping line 448603: expected 2 fields, saw 5\n",
      "Skipping line 451732: expected 2 fields, saw 5\n",
      "Skipping line 458249: expected 2 fields, saw 5\n",
      "Skipping line 460274: expected 2 fields, saw 5\n",
      "Skipping line 467630: expected 2 fields, saw 5\n",
      "Skipping line 473961: expected 2 fields, saw 5\n",
      "Skipping line 476281: expected 2 fields, saw 5\n",
      "Skipping line 478010: expected 2 fields, saw 5\n",
      "Skipping line 478322: expected 2 fields, saw 5\n",
      "Skipping line 479999: expected 2 fields, saw 5\n",
      "Skipping line 480898: expected 2 fields, saw 5\n",
      "Skipping line 481688: expected 2 fields, saw 5\n",
      "Skipping line 485193: expected 2 fields, saw 5\n",
      "Skipping line 485519: expected 2 fields, saw 5\n",
      "Skipping line 486000: expected 2 fields, saw 5\n",
      "Skipping line 489063: expected 2 fields, saw 5\n",
      "Skipping line 494525: expected 2 fields, saw 5\n",
      "Skipping line 495009: expected 2 fields, saw 5\n",
      "Skipping line 501954: expected 2 fields, saw 5\n",
      "Skipping line 508035: expected 2 fields, saw 5\n",
      "Skipping line 508828: expected 2 fields, saw 5\n",
      "Skipping line 509833: expected 2 fields, saw 5\n",
      "Skipping line 510410: expected 2 fields, saw 5\n",
      "Skipping line 518229: expected 2 fields, saw 5\n",
      "Skipping line 520302: expected 2 fields, saw 5\n",
      "Skipping line 520340: expected 2 fields, saw 5\n",
      "\n",
      "Skipping line 525174: expected 2 fields, saw 5\n",
      "Skipping line 526251: expected 2 fields, saw 5\n",
      "Skipping line 529611: expected 2 fields, saw 5\n",
      "Skipping line 531398: expected 2 fields, saw 5\n",
      "Skipping line 534146: expected 2 fields, saw 5\n",
      "Skipping line 544954: expected 2 fields, saw 5\n",
      "Skipping line 553002: expected 2 fields, saw 5\n",
      "Skipping line 553883: expected 2 fields, saw 5\n",
      "Skipping line 553887: expected 2 fields, saw 5\n",
      "Skipping line 553915: expected 2 fields, saw 5\n",
      "Skipping line 554172: expected 2 fields, saw 5\n",
      "Skipping line 563534: expected 2 fields, saw 5\n",
      "Skipping line 565191: expected 2 fields, saw 5\n",
      "Skipping line 574108: expected 2 fields, saw 5\n",
      "Skipping line 574412: expected 2 fields, saw 5\n",
      "Skipping line 575985: expected 2 fields, saw 5\n",
      "Skipping line 580091: expected 2 fields, saw 5\n",
      "Skipping line 582682: expected 2 fields, saw 5\n",
      "Skipping line 585885: expected 2 fields, saw 5\n",
      "Skipping line 590171: expected 2 fields, saw 5\n",
      "Skipping line 591924: expected 2 fields, saw 5\n",
      "Skipping line 592515: expected 2 fields, saw 5\n",
      "Skipping line 593888: expected 2 fields, saw 5\n",
      "Skipping line 596245: expected 2 fields, saw 5\n",
      "Skipping line 607344: expected 2 fields, saw 5\n",
      "Skipping line 607633: expected 2 fields, saw 5\n",
      "Skipping line 610939: expected 2 fields, saw 5\n",
      "Skipping line 613638: expected 2 fields, saw 5\n",
      "Skipping line 615643: expected 2 fields, saw 5\n",
      "Skipping line 615901: expected 2 fields, saw 5\n",
      "Skipping line 617389: expected 2 fields, saw 5\n",
      "Skipping line 634641: expected 2 fields, saw 5\n",
      "Skipping line 635755: expected 2 fields, saw 5\n",
      "Skipping line 646243: expected 2 fields, saw 5\n",
      "Skipping line 647165: expected 2 fields, saw 5\n",
      "Skipping line 648610: expected 2 fields, saw 5\n",
      "Skipping line 648772: expected 2 fields, saw 5\n",
      "Skipping line 651833: expected 2 fields, saw 5\n",
      "Skipping line 653663: expected 2 fields, saw 5\n",
      "Skipping line 656233: expected 2 fields, saw 5\n",
      "Skipping line 656694: expected 2 fields, saw 5\n",
      "Skipping line 659783: expected 2 fields, saw 5\n",
      "Skipping line 660478: expected 2 fields, saw 5\n",
      "Skipping line 661133: expected 2 fields, saw 5\n",
      "Skipping line 661736: expected 2 fields, saw 5\n",
      "Skipping line 669827: expected 2 fields, saw 5\n",
      "\n"
     ]
    }
   ],
   "source": [
    "#Importing and Reading the dataset\n",
    "data=pd.read_csv(\"data.csv\", error_bad_lines=False)\n",
    "data=pd.DataFrame(data)\n",
    "data.fillna(' ', inplace=True)\n",
    "password=np.array(data)"
   ]
  },
  {
   "cell_type": "code",
   "execution_count": 9,
   "metadata": {},
   "outputs": [
    {
     "data": {
      "text/html": [
       "<div>\n",
       "<style scoped>\n",
       "    .dataframe tbody tr th:only-of-type {\n",
       "        vertical-align: middle;\n",
       "    }\n",
       "\n",
       "    .dataframe tbody tr th {\n",
       "        vertical-align: top;\n",
       "    }\n",
       "\n",
       "    .dataframe thead th {\n",
       "        text-align: right;\n",
       "    }\n",
       "</style>\n",
       "<table border=\"1\" class=\"dataframe\">\n",
       "  <thead>\n",
       "    <tr style=\"text-align: right;\">\n",
       "      <th></th>\n",
       "      <th>password</th>\n",
       "      <th>strength</th>\n",
       "    </tr>\n",
       "  </thead>\n",
       "  <tbody>\n",
       "    <tr>\n",
       "      <th>426201</th>\n",
       "      <td>wael22845345</td>\n",
       "      <td>Medium</td>\n",
       "    </tr>\n",
       "  </tbody>\n",
       "</table>\n",
       "</div>"
      ],
      "text/plain": [
       "            password strength\n",
       "426201  wael22845345   Medium"
      ]
     },
     "execution_count": 9,
     "metadata": {},
     "output_type": "execute_result"
    }
   ],
   "source": [
    "data=data.dropna()\n",
    "data['strength']=data['strength'].map({0:'Weak',\n",
    "                                       1:'Medium',\n",
    "                                       2:'Strong'})\n",
    "data.sample()"
   ]
  },
  {
   "cell_type": "code",
   "execution_count": 11,
   "metadata": {},
   "outputs": [],
   "source": [
    "#Random shuffling of data for robustness\n",
    "random.shuffle(password)\n",
    "\n",
    "y=[d[1] for d in password]\n",
    "allpasswords=[d[0] for d in password]"
   ]
  },
  {
   "cell_type": "code",
   "execution_count": 12,
   "metadata": {},
   "outputs": [
    {
     "data": {
      "text/plain": [
       "array([['kzde5577', 1],\n",
       "       ['kino3434', 1],\n",
       "       ['visi7k1yr', 1],\n",
       "       ...,\n",
       "       ['q8gsts', 0],\n",
       "       ['R7vY71TA1NwfGe8d', 2],\n",
       "       ['curpksg16', 1]], dtype=object)"
      ]
     },
     "execution_count": 12,
     "metadata": {},
     "output_type": "execute_result"
    }
   ],
   "source": [
    "password"
   ]
  },
  {
   "cell_type": "code",
   "execution_count": 13,
   "metadata": {},
   "outputs": [],
   "source": [
    "#Vectorizing\n",
    "vectorizer=TfidfVectorizer(tokenizer=getToken)"
   ]
  },
  {
   "cell_type": "code",
   "execution_count": 14,
   "metadata": {},
   "outputs": [
    {
     "name": "stderr",
     "output_type": "stream",
     "text": [
      "c:\\Users\\DELL\\anaconda3\\Lib\\site-packages\\sklearn\\feature_extraction\\text.py:525: UserWarning: The parameter 'token_pattern' will not be used since 'tokenizer' is not None'\n",
      "  warnings.warn(\n"
     ]
    }
   ],
   "source": [
    "X=vectorizer.fit_transform(allpasswords)"
   ]
  },
  {
   "cell_type": "code",
   "execution_count": 15,
   "metadata": {},
   "outputs": [],
   "source": [
    "#Splitting the data for training and then testing the model\n",
    "X_train, X_test, Y_train, Y_test=train_test_split(X, y, test_size=0.20, random_state=42)"
   ]
  },
  {
   "cell_type": "code",
   "execution_count": 16,
   "metadata": {},
   "outputs": [
    {
     "name": "stderr",
     "output_type": "stream",
     "text": [
      "c:\\Users\\DELL\\anaconda3\\Lib\\site-packages\\sklearn\\linear_model\\_logistic.py:460: ConvergenceWarning: lbfgs failed to converge (status=1):\n",
      "STOP: TOTAL NO. of ITERATIONS REACHED LIMIT.\n",
      "\n",
      "Increase the number of iterations (max_iter) or scale the data as shown in:\n",
      "    https://scikit-learn.org/stable/modules/preprocessing.html\n",
      "Please also refer to the documentation for alternative solver options:\n",
      "    https://scikit-learn.org/stable/modules/linear_model.html#logistic-regression\n",
      "  n_iter_i = _check_optimize_result(\n"
     ]
    },
    {
     "data": {
      "text/html": [
       "<style>#sk-container-id-1 {color: black;}#sk-container-id-1 pre{padding: 0;}#sk-container-id-1 div.sk-toggleable {background-color: white;}#sk-container-id-1 label.sk-toggleable__label {cursor: pointer;display: block;width: 100%;margin-bottom: 0;padding: 0.3em;box-sizing: border-box;text-align: center;}#sk-container-id-1 label.sk-toggleable__label-arrow:before {content: \"▸\";float: left;margin-right: 0.25em;color: #696969;}#sk-container-id-1 label.sk-toggleable__label-arrow:hover:before {color: black;}#sk-container-id-1 div.sk-estimator:hover label.sk-toggleable__label-arrow:before {color: black;}#sk-container-id-1 div.sk-toggleable__content {max-height: 0;max-width: 0;overflow: hidden;text-align: left;background-color: #f0f8ff;}#sk-container-id-1 div.sk-toggleable__content pre {margin: 0.2em;color: black;border-radius: 0.25em;background-color: #f0f8ff;}#sk-container-id-1 input.sk-toggleable__control:checked~div.sk-toggleable__content {max-height: 200px;max-width: 100%;overflow: auto;}#sk-container-id-1 input.sk-toggleable__control:checked~label.sk-toggleable__label-arrow:before {content: \"▾\";}#sk-container-id-1 div.sk-estimator input.sk-toggleable__control:checked~label.sk-toggleable__label {background-color: #d4ebff;}#sk-container-id-1 div.sk-label input.sk-toggleable__control:checked~label.sk-toggleable__label {background-color: #d4ebff;}#sk-container-id-1 input.sk-hidden--visually {border: 0;clip: rect(1px 1px 1px 1px);clip: rect(1px, 1px, 1px, 1px);height: 1px;margin: -1px;overflow: hidden;padding: 0;position: absolute;width: 1px;}#sk-container-id-1 div.sk-estimator {font-family: monospace;background-color: #f0f8ff;border: 1px dotted black;border-radius: 0.25em;box-sizing: border-box;margin-bottom: 0.5em;}#sk-container-id-1 div.sk-estimator:hover {background-color: #d4ebff;}#sk-container-id-1 div.sk-parallel-item::after {content: \"\";width: 100%;border-bottom: 1px solid gray;flex-grow: 1;}#sk-container-id-1 div.sk-label:hover label.sk-toggleable__label {background-color: #d4ebff;}#sk-container-id-1 div.sk-serial::before {content: \"\";position: absolute;border-left: 1px solid gray;box-sizing: border-box;top: 0;bottom: 0;left: 50%;z-index: 0;}#sk-container-id-1 div.sk-serial {display: flex;flex-direction: column;align-items: center;background-color: white;padding-right: 0.2em;padding-left: 0.2em;position: relative;}#sk-container-id-1 div.sk-item {position: relative;z-index: 1;}#sk-container-id-1 div.sk-parallel {display: flex;align-items: stretch;justify-content: center;background-color: white;position: relative;}#sk-container-id-1 div.sk-item::before, #sk-container-id-1 div.sk-parallel-item::before {content: \"\";position: absolute;border-left: 1px solid gray;box-sizing: border-box;top: 0;bottom: 0;left: 50%;z-index: -1;}#sk-container-id-1 div.sk-parallel-item {display: flex;flex-direction: column;z-index: 1;position: relative;background-color: white;}#sk-container-id-1 div.sk-parallel-item:first-child::after {align-self: flex-end;width: 50%;}#sk-container-id-1 div.sk-parallel-item:last-child::after {align-self: flex-start;width: 50%;}#sk-container-id-1 div.sk-parallel-item:only-child::after {width: 0;}#sk-container-id-1 div.sk-dashed-wrapped {border: 1px dashed gray;margin: 0 0.4em 0.5em 0.4em;box-sizing: border-box;padding-bottom: 0.4em;background-color: white;}#sk-container-id-1 div.sk-label label {font-family: monospace;font-weight: bold;display: inline-block;line-height: 1.2em;}#sk-container-id-1 div.sk-label-container {text-align: center;}#sk-container-id-1 div.sk-container {/* jupyter's `normalize.less` sets `[hidden] { display: none; }` but bootstrap.min.css set `[hidden] { display: none !important; }` so we also need the `!important` here to be able to override the default hidden behavior on the sphinx rendered scikit-learn.org. See: https://github.com/scikit-learn/scikit-learn/issues/21755 */display: inline-block !important;position: relative;}#sk-container-id-1 div.sk-text-repr-fallback {display: none;}</style><div id=\"sk-container-id-1\" class=\"sk-top-container\"><div class=\"sk-text-repr-fallback\"><pre>LogisticRegression(multi_class=&#x27;ovr&#x27;)</pre><b>In a Jupyter environment, please rerun this cell to show the HTML representation or trust the notebook. <br />On GitHub, the HTML representation is unable to render, please try loading this page with nbviewer.org.</b></div><div class=\"sk-container\" hidden><div class=\"sk-item\"><div class=\"sk-estimator sk-toggleable\"><input class=\"sk-toggleable__control sk-hidden--visually\" id=\"sk-estimator-id-1\" type=\"checkbox\" checked><label for=\"sk-estimator-id-1\" class=\"sk-toggleable__label sk-toggleable__label-arrow\">LogisticRegression</label><div class=\"sk-toggleable__content\"><pre>LogisticRegression(multi_class=&#x27;ovr&#x27;)</pre></div></div></div></div></div>"
      ],
      "text/plain": [
       "LogisticRegression(multi_class='ovr')"
      ]
     },
     "execution_count": 16,
     "metadata": {},
     "output_type": "execute_result"
    }
   ],
   "source": [
    "#Fitting the data\n",
    "lgs = LogisticRegression(penalty='l2', multi_class='ovr')\n",
    "lgs.fit(X_train, Y_train)"
   ]
  },
  {
   "cell_type": "code",
   "execution_count": 17,
   "metadata": {},
   "outputs": [
    {
     "name": "stdout",
     "output_type": "stream",
     "text": [
      "Test Accuracy: 81.09%\n"
     ]
    }
   ],
   "source": [
    "#Making predictions based on the trained data\n",
    "lgs_predict=lgs.predict(X_test)\n",
    "\n",
    "#Testing the accuracy of the model\n",
    "print(\"Test Accuracy: {}%\".format(round(lgs.score(X_test,Y_test)*100,2)))"
   ]
  },
  {
   "cell_type": "code",
   "execution_count": 18,
   "metadata": {},
   "outputs": [
    {
     "data": {
      "image/png": "[encoded data removed]",
      "text/plain": [
       "<Figure size 700x700 with 2 Axes>"
      ]
     },
     "metadata": {},
     "output_type": "display_data"
    }
   ],
   "source": [
    "#Confusion matrix for evaluating the performance of model\n",
    "cm=confusion_matrix(Y_test, lgs_predict)\n",
    "xlabel=[\"0\", \"1\", \"2\"]\n",
    "ylabel=[\"0\", \"1\", \"2\"]\n",
    "\n",
    "f, ax=plt.subplots(figsize=(7,7), facecolor='w')\n",
    "sns.heatmap(cm, annot=True, linewidths=0.2, linecolor='black', fmt='.0f', ax=ax, cmap=\"Purples\")\n",
    "plt.xlabel('Predicted Label')\n",
    "plt.ylabel('True Label')\n",
    "plt.title(\"Confusion Matrix for Logistic Regression\")\n",
    "plt.show()"
   ]
  },
  {
   "cell_type": "code",
   "execution_count": 19,
   "metadata": {},
   "outputs": [
    {
     "name": "stdout",
     "output_type": "stream",
     "text": [
      "Predicted strength for the entered password '123456': Medium\n",
      "Predicted strength for the entered password 'hidgw4422!!': Medium\n",
      "Predicted strength for the entered password 'H1h2h3!!': Medium\n",
      "Predicted strength for the entered password '': Weak\n"
     ]
    }
   ],
   "source": [
    "#Custom testing\n",
    "def predict_password_strength():\n",
    "     label_map = {0: 'Weak', 1: 'Medium', 2: 'Strong'}\n",
    "     while True:\n",
    "        new_password = input(\"Enter a new password to predict its strength (or 'quit' to exit): \")\n",
    "        \n",
    "        if new_password.lower() == 'quit':\n",
    "            break\n",
    "        X_predict=vectorizer.transform([new_password])\n",
    "        Y_predict=lgs.predict(X_predict)\n",
    "        predicted_strength = label_map[Y_predict[0]] if Y_predict[0] in label_map else 'Unknown'\n",
    "        print(f\"Predicted strength for the entered password '{new_password}': {predicted_strength}\")\n",
    "\n",
    "# Call the function to predict strength for a new password entered by the user\n",
    "predict_password_strength()\n"
   ]
  },
  {
   "cell_type": "code",
   "execution_count": null,
   "metadata": {},
   "outputs": [],
   "source": []
  }
 ],
 "metadata": {
  "kernelspec": {
   "display_name": "base",
   "language": "python",
   "name": "python3"
  },
  "language_info": {
   "codemirror_mode": {
    "name": "ipython",
    "version": 3
   },
   "file_extension": ".py",
   "mimetype": "text/x-python",
   "name": "python",
   "nbconvert_exporter": "python",
   "pygments_lexer": "ipython3",
   "version": "3.11.4"
  }
 },
 "nbformat": 4,
 "nbformat_minor": 2
}
